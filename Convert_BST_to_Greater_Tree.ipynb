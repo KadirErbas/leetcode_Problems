{
 "cells": [
  {
   "cell_type": "code",
   "execution_count": 4,
   "id": "dda505c8",
   "metadata": {},
   "outputs": [],
   "source": [
    "'''\n",
    "Given the root of a Binary Search Tree (BST), convert it to a Greater Tree such that every key of the original BST is changed to the original key plus the sum of all keys greater than the original key in BST.\n",
    "\n",
    "As a reminder, a binary search tree is a tree that satisfies these constraints:\n",
    "\n",
    "The left subtree of a node contains only nodes with keys less than the node's key.\n",
    "The right subtree of a node contains only nodes with keys greater than the node's key.\n",
    "Both the left and right subtrees must also be binary search trees.\n",
    "\n",
    "'''\n",
    "\n",
    "\n",
    "# Definition for a binary tree node.\n",
    "# class TreeNode:\n",
    "#     def __init__(self, val=0, left=None, right=None):\n",
    "#         self.val = val\n",
    "#         self.left = left\n",
    "#         self.right = right\n",
    "\n",
    "class Solution:\n",
    "    def convertBST(self, root: Optional[TreeNode]) -> Optional[TreeNode]:\n",
    "       \n",
    "        total = 0\n",
    "        def traverse(self, node):\n",
    "            nonlocal total\n",
    "            if not node:\n",
    "                return\n",
    "            \n",
    "            if node.right:\n",
    "                traverse(self, node.right)\n",
    "           \n",
    "            node.val += total\n",
    "            total = node.val              \n",
    "            \n",
    "            if node.left:\n",
    "                traverse(self, node.left)\n",
    "       \n",
    "        traverse(self, root)     \n",
    "        return root"
   ]
  },
  {
   "cell_type": "code",
   "execution_count": 5,
   "id": "65079283",
   "metadata": {},
   "outputs": [],
   "source": []
  }
 ],
 "metadata": {
  "kernelspec": {
   "display_name": "Python 3 (ipykernel)",
   "language": "python",
   "name": "python3"
  },
  "language_info": {
   "codemirror_mode": {
    "name": "ipython",
    "version": 3
   },
   "file_extension": ".py",
   "mimetype": "text/x-python",
   "name": "python",
   "nbconvert_exporter": "python",
   "pygments_lexer": "ipython3",
   "version": "3.9.13"
  }
 },
 "nbformat": 4,
 "nbformat_minor": 5
}
